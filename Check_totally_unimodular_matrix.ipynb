{
  "nbformat": 4,
  "nbformat_minor": 0,
  "metadata": {
    "colab": {
      "name": "Check_totally_unimodular_matrix.ipynb",
      "provenance": [],
      "collapsed_sections": []
    },
    "kernelspec": {
      "name": "python3",
      "display_name": "Python 3"
    },
    "language_info": {
      "name": "python"
    }
  },
  "cells": [
    {
      "cell_type": "code",
      "metadata": {
        "id": "OOJrpMGEpBnO"
      },
      "source": [
        "import numpy as np"
      ],
      "execution_count": 81,
      "outputs": []
    },
    {
      "cell_type": "code",
      "metadata": {
        "id": "xeSo_uofy40e"
      },
      "source": [
        "floating_point = 6  # Computation precision is 6 digits"
      ],
      "execution_count": 82,
      "outputs": []
    },
    {
      "cell_type": "code",
      "metadata": {
        "id": "1iSAX7ksrUxU"
      },
      "source": [
        "from itertools import chain, combinations\n",
        "\n",
        "def powerset(iterable):\n",
        "  \"\"\"\n",
        "  Source: https://stackoverflow.com/questions/1482308/how-to-get-all-subsets-of-a-set-powerset\n",
        "  \"\"\"\n",
        "  s = list(iterable)\n",
        "  return chain.from_iterable(combinations(s, r) for r in range(len(s)+1))"
      ],
      "execution_count": 86,
      "outputs": []
    },
    {
      "cell_type": "code",
      "metadata": {
        "id": "0cy-i5YQpJYF"
      },
      "source": [
        "def is_TUM(mat) -> (bool, str):\n",
        "  \"\"\"\n",
        "  return True if mat is TUM (Totally Unimodular Matrix), else return False and the reason.\n",
        "  The result is achieved by \"TUM definition\", which means with matrix NXN \n",
        "  the algorithm do iterations on on all subsets of n rows and columns and calculate its det.\n",
        "  In other words: runtime complexity is: O(num subsets) = O(N!)\n",
        "  \"\"\"\n",
        "  rows_power_set = list(powerset(range(mat.shape[0])))\n",
        "  cols_power_set = list(powerset(range(mat.shape[1])))\n",
        "\n",
        "  for r_set in rows_power_set:\n",
        "    # print(r_set)\n",
        "    if len(r_set) <= 0:\n",
        "      # print(\"do continue on rows\")\n",
        "      continue\n",
        "\n",
        "    for c_set in cols_power_set:\n",
        "      if len(c_set) <= 0:\n",
        "        # print(\"do continue on cols\")\n",
        "        continue\n",
        "\n",
        "      rs = list(r_set)\n",
        "      cs = list(c_set)\n",
        "\n",
        "      if len(rs) != len(cs):\n",
        "        # print(f\"don't calc MUT of: rl: {rs}, rc: {cs}\")\n",
        "        continue\n",
        "\n",
        "      # print(f\"rl: {rs}, rc: {cs}\")\n",
        "\n",
        "      # Source: https://numpy.org/doc/stable/reference/generated/numpy.ix_.html\n",
        "      ixgrid = np.ix_(rs, cs)\n",
        "      sub_mat = mat[ixgrid]\n",
        "      # print(sub_mat)\n",
        "\n",
        "      det = np.around(np.linalg.det(sub_mat), floating_point)\n",
        "      \n",
        "      if not(det == 0. or abs(det) == 1.):\n",
        "        # if det is not 0, 1 or -1, the matrix is not TUM\n",
        "        # print(f\"matrix is not TUM, because the det of of sub-matrix:\\n {sub_mat}\\n is equal {det}\")\n",
        "        return (False, f\"matrix is not TUM, because the det of of sub-matrix:\\n {sub_mat}\\n is equal {det}\\nrows:{rs}, cols:{cs}\")\n",
        "\n",
        "  return (True, \"\")\n"
      ],
      "execution_count": 87,
      "outputs": []
    },
    {
      "cell_type": "code",
      "metadata": {
        "id": "Oh8_Re79pZWN"
      },
      "source": [
        "# a = np.arange(10).reshape(2, 5)"
      ],
      "execution_count": 88,
      "outputs": []
    },
    {
      "cell_type": "code",
      "metadata": {
        "id": "X5ZRdYBe1Vpf"
      },
      "source": [
        "mat = np.asarray([\n",
        "                  [-1, 0, 0, -1, -1, 0, 0],\n",
        "                  [-1, -1, -1, 0, 0, 0, 0],\n",
        "                  [0, -1, 0, 0, 0, -1, -1],\n",
        "                  [-1, 0, -1, 0, 0, 0, -1],\n",
        "                  [0, -1, -1, 0, 0, -1, -1],\n",
        "\n",
        "                  [1, 0, 0, 0, 0, 0, 0],\n",
        "                  [0, 1, 0, 0, 0, 0, 0],\n",
        "                  [0, 0, 1, 0, 0, 0, 0],\n",
        "                  [0, 0, 0, 1, 0, 0, 0],\n",
        "                  [0, 0, 0, 0, 1, 0, 0],\n",
        "                  [0, 0, 0, 0, 0, 1, 0],\n",
        "                  [0, 0, 0, 0, 0, 0, 1]\n",
        "])"
      ],
      "execution_count": 89,
      "outputs": []
    },
    {
      "cell_type": "code",
      "metadata": {
        "colab": {
          "base_uri": "https://localhost:8080/"
        },
        "id": "s4P0g8ajpZ3C",
        "outputId": "4b4d4531-0713-4629-c8e3-fc15403022e3"
      },
      "source": [
        "is_tum, reason = is_TUM(mat)\n",
        "print(reason)"
      ],
      "execution_count": 90,
      "outputs": [
        {
          "output_type": "stream",
          "name": "stdout",
          "text": [
            "matrix is not TUM, because the det of of sub-matrix:\n",
            " [[-1 -1  0]\n",
            " [ 0 -1 -1]\n",
            " [-1  0 -1]]\n",
            " is equal -2.0\n",
            "rows:[1, 2, 3], cols:[0, 1, 6]\n"
          ]
        }
      ]
    },
    {
      "cell_type": "code",
      "metadata": {
        "id": "8fD4SMzd1fkj"
      },
      "source": [
        ""
      ],
      "execution_count": null,
      "outputs": []
    }
  ]
}